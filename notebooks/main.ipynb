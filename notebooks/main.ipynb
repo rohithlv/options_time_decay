{
 "cells": [
  {
   "cell_type": "code",
   "execution_count": 2,
   "metadata": {},
   "outputs": [],
   "source": [
    "import yfinance as yf"
   ]
  },
  {
   "cell_type": "code",
   "execution_count": 3,
   "metadata": {},
   "outputs": [
    {
     "name": "stdout",
     "output_type": "stream",
     "text": [
      "                                   Open          High           Low  \\\n",
      "Date                                                                  \n",
      "2024-12-09 00:00:00+05:30  24633.900391  24705.000000  24580.050781   \n",
      "2024-12-10 00:00:00+05:30  24652.650391  24677.800781  24510.650391   \n",
      "2024-12-11 00:00:00+05:30  24620.500000  24691.750000  24583.849609   \n",
      "2024-12-12 00:00:00+05:30  24604.449219  24675.250000  24527.949219   \n",
      "2024-12-13 00:00:00+05:30  24498.349609  24792.300781  24180.800781   \n",
      "\n",
      "                                  Close  Volume  Dividends  Stock Splits  \n",
      "Date                                                                      \n",
      "2024-12-09 00:00:00+05:30  24619.000000  248100        0.0           0.0  \n",
      "2024-12-10 00:00:00+05:30  24610.050781  261000        0.0           0.0  \n",
      "2024-12-11 00:00:00+05:30  24641.800781  187300        0.0           0.0  \n",
      "2024-12-12 00:00:00+05:30  24548.699219  266100        0.0           0.0  \n",
      "2024-12-13 00:00:00+05:30  24768.300781  310100        0.0           0.0  \n"
     ]
    }
   ],
   "source": []
  },
  {
   "cell_type": "code",
   "execution_count": null,
   "metadata": {},
   "outputs": [],
   "source": []
  }
 ],
 "metadata": {
  "kernelspec": {
   "display_name": ".venv",
   "language": "python",
   "name": "python3"
  },
  "language_info": {
   "codemirror_mode": {
    "name": "ipython",
    "version": 3
   },
   "file_extension": ".py",
   "mimetype": "text/x-python",
   "name": "python",
   "nbconvert_exporter": "python",
   "pygments_lexer": "ipython3",
   "version": "3.10.8"
  }
 },
 "nbformat": 4,
 "nbformat_minor": 2
}
